{
  "nbformat": 4,
  "nbformat_minor": 0,
  "metadata": {
    "colab": {
      "provenance": [],
      "authorship_tag": "ABX9TyNY0O3J5nI72fF1ZSUnmxQ/",
      "include_colab_link": true
    },
    "kernelspec": {
      "name": "python3",
      "display_name": "Python 3"
    },
    "language_info": {
      "name": "python"
    }
  },
  "cells": [
    {
      "cell_type": "markdown",
      "metadata": {
        "id": "view-in-github",
        "colab_type": "text"
      },
      "source": [
        "<a href=\"https://colab.research.google.com/github/ElisandroJr/aulaprogramacao/blob/main/Aula_Laos_Python.ipynb\" target=\"_parent\"><img src=\"https://colab.research.google.com/assets/colab-badge.svg\" alt=\"Open In Colab\"/></a>"
      ]
    },
    {
      "cell_type": "code",
      "execution_count": null,
      "metadata": {
        "id": "XJ-iWYGty_BY"
      },
      "outputs": [],
      "source": []
    },
    {
      "cell_type": "code",
      "source": [
        "for i in ranger (1, 8):\n",
        "  print(i)"
      ],
      "metadata": {
        "id": "Tcw5hfO61YiO"
      },
      "execution_count": null,
      "outputs": []
    },
    {
      "cell_type": "code",
      "source": [
        "for i in range(1, 8):\n",
        "  print(i)"
      ],
      "metadata": {
        "colab": {
          "base_uri": "https://localhost:8080/"
        },
        "id": "QQNHeuWx2pwV",
        "outputId": "393e55cb-5cc5-4b68-9004-4e42762a7a05"
      },
      "execution_count": null,
      "outputs": [
        {
          "output_type": "stream",
          "name": "stdout",
          "text": [
            "1\n",
            "2\n",
            "3\n",
            "4\n",
            "5\n",
            "6\n",
            "7\n"
          ]
        }
      ]
    },
    {
      "cell_type": "code",
      "source": [
        "#Printar todos os numeros de 10 a 1 (regressivo)\n",
        "\n",
        "for i in range(10,0,-1):\n",
        "  print(i)"
      ],
      "metadata": {
        "id": "JRC-7NpT5aTS",
        "colab": {
          "base_uri": "https://localhost:8080/"
        },
        "outputId": "dfceaa61-b3e9-4bc3-a622-da8c83f82f64"
      },
      "execution_count": null,
      "outputs": [
        {
          "output_type": "stream",
          "name": "stdout",
          "text": [
            "10\n",
            "9\n",
            "8\n",
            "7\n",
            "6\n",
            "5\n",
            "4\n",
            "3\n",
            "2\n",
            "1\n"
          ]
        }
      ]
    },
    {
      "cell_type": "code",
      "source": [
        "#Mostra a soma de todos os numeros de um intervalo, inserido pelo usuario\n",
        "soma = 0\n",
        "for i in range(5):\n",
        "  soma = soma + i\n",
        "\n",
        "print(soma)"
      ],
      "metadata": {
        "id": "InExSjpr5wy2",
        "colab": {
          "base_uri": "https://localhost:8080/"
        },
        "outputId": "0eb54af3-1c22-4200-d2eb-c720fe28e691"
      },
      "execution_count": null,
      "outputs": [
        {
          "output_type": "stream",
          "name": "stdout",
          "text": [
            "10\n"
          ]
        }
      ]
    },
    {
      "cell_type": "code",
      "source": [
        "soma = 0\n",
        "num1 = int(input(\"insiria o primeiro numero:\"))\n",
        "num2 =  int(input(\"insira o segundo numero\"))\n",
        "\n",
        "for i in range(num1, num2+1):\n",
        "  soma=soma + i\n",
        "\n",
        "print(soma)"
      ],
      "metadata": {
        "colab": {
          "base_uri": "https://localhost:8080/"
        },
        "id": "YKp5a-FM7g9F",
        "outputId": "625dfab6-4f5f-4cb0-8da1-81848db26b0a"
      },
      "execution_count": null,
      "outputs": [
        {
          "output_type": "stream",
          "name": "stdout",
          "text": [
            "insiria o primeiro numero:2\n",
            "insira o segundo numero10\n",
            "54\n"
          ]
        }
      ]
    },
    {
      "cell_type": "code",
      "source": [
        "#Printar todos os numeros de 10 a 25\n",
        "for i in range(10, 25):\n",
        "  print(i)"
      ],
      "metadata": {
        "colab": {
          "base_uri": "https://localhost:8080/"
        },
        "id": "v-1lAxao27e9",
        "outputId": "54767ee7-2a0c-498b-bc03-f780fd2e08ab"
      },
      "execution_count": null,
      "outputs": [
        {
          "output_type": "stream",
          "name": "stdout",
          "text": [
            "10\n",
            "11\n",
            "12\n",
            "13\n",
            "14\n",
            "15\n",
            "16\n",
            "17\n",
            "18\n",
            "19\n",
            "20\n",
            "21\n",
            "22\n",
            "23\n",
            "24\n"
          ]
        }
      ]
    },
    {
      "cell_type": "code",
      "source": [
        "#Printar todos os numeros pares de 0 a 50\n",
        "\n",
        "for i in range(0, 51, 2):\n",
        "  print(i)"
      ],
      "metadata": {
        "colab": {
          "base_uri": "https://localhost:8080/"
        },
        "id": "uK-5Tmt244dA",
        "outputId": "2bbc2eea-d893-4b6a-8c8f-fe73850964c0"
      },
      "execution_count": null,
      "outputs": [
        {
          "output_type": "stream",
          "name": "stdout",
          "text": [
            "0\n",
            "2\n",
            "4\n",
            "6\n",
            "8\n",
            "10\n",
            "12\n",
            "14\n",
            "16\n",
            "18\n",
            "20\n",
            "22\n",
            "24\n",
            "26\n",
            "28\n",
            "30\n",
            "32\n",
            "34\n",
            "36\n",
            "38\n",
            "40\n",
            "42\n",
            "44\n",
            "46\n",
            "48\n",
            "50\n"
          ]
        }
      ]
    },
    {
      "cell_type": "code",
      "source": [
        "# Pega um range de valores entre 1 e 20\n",
        "# e importante informando se é par ou impar\n",
        "# ex: 1 é impar\n"
      ],
      "metadata": {
        "id": "Me1AXjZr-hBV"
      },
      "execution_count": null,
      "outputs": []
    },
    {
      "cell_type": "code",
      "source": [
        "i = 1\n",
        "while i <= 5:\n",
        "  print(i)\n",
        "  i+=1\n",
        "  #incremento\n",
        "  #soma =  soma + 1"
      ],
      "metadata": {
        "id": "MkWobiqJB_Ba"
      },
      "execution_count": null,
      "outputs": []
    },
    {
      "cell_type": "code",
      "source": [
        "senha=\"seumaniaco\"\n",
        "\n",
        "while (senha !=\"seumaniaco\"):\n",
        "  senha=input(\"seumaniaco\")\n",
        "print(\"Acesso Liberado MANIACO\")"
      ],
      "metadata": {
        "id": "MRCtQrP7C-KW",
        "colab": {
          "base_uri": "https://localhost:8080/"
        },
        "outputId": "ce7df88a-5cca-4cba-fa9a-2ca021785d76"
      },
      "execution_count": null,
      "outputs": [
        {
          "output_type": "stream",
          "name": "stdout",
          "text": [
            "Acesso Liberado MANIACO\n"
          ]
        }
      ]
    },
    {
      "cell_type": "code",
      "source": [
        "valor = 1\n",
        "\n",
        "while valor != 0:\n",
        "  print(valor,\"diferente de zero\")\n",
        "  try:\n",
        "    valor = int(input(\"digite um numero, zero sai: \"))\n",
        "  except ValueError:\n",
        "    print(\"Entrada inválida. Por favor, digite um número inteiro.\")\n",
        "print(\"Digitasse zero, otaro!\" )"
      ],
      "metadata": {
        "colab": {
          "base_uri": "https://localhost:8080/",
          "height": 373
        },
        "id": "hsPwtUkbEEZC",
        "outputId": "85db3ee6-2d4f-4f36-ad01-4456cd611dd7"
      },
      "execution_count": null,
      "outputs": [
        {
          "metadata": {
            "tags": null
          },
          "name": "stdout",
          "output_type": "stream",
          "text": [
            "1 diferente de zero\n"
          ]
        },
        {
          "output_type": "error",
          "ename": "KeyboardInterrupt",
          "evalue": "Interrupted by user",
          "traceback": [
            "\u001b[0;31m---------------------------------------------------------------------------\u001b[0m",
            "\u001b[0;31mKeyboardInterrupt\u001b[0m                         Traceback (most recent call last)",
            "\u001b[0;32m/tmp/ipython-input-2086701249.py\u001b[0m in \u001b[0;36m<cell line: 0>\u001b[0;34m()\u001b[0m\n\u001b[1;32m      4\u001b[0m   \u001b[0mprint\u001b[0m\u001b[0;34m(\u001b[0m\u001b[0mvalor\u001b[0m\u001b[0;34m,\u001b[0m\u001b[0;34m\"diferente de zero\"\u001b[0m\u001b[0;34m)\u001b[0m\u001b[0;34m\u001b[0m\u001b[0;34m\u001b[0m\u001b[0m\n\u001b[1;32m      5\u001b[0m   \u001b[0;32mtry\u001b[0m\u001b[0;34m:\u001b[0m\u001b[0;34m\u001b[0m\u001b[0;34m\u001b[0m\u001b[0m\n\u001b[0;32m----> 6\u001b[0;31m     \u001b[0mvalor\u001b[0m \u001b[0;34m=\u001b[0m \u001b[0mint\u001b[0m\u001b[0;34m(\u001b[0m\u001b[0minput\u001b[0m\u001b[0;34m(\u001b[0m\u001b[0;34m\"digite um numero, zero sai: \"\u001b[0m\u001b[0;34m)\u001b[0m\u001b[0;34m)\u001b[0m \u001b[0;31m# Corrected variable name and added prompt text\u001b[0m\u001b[0;34m\u001b[0m\u001b[0;34m\u001b[0m\u001b[0m\n\u001b[0m\u001b[1;32m      7\u001b[0m   \u001b[0;32mexcept\u001b[0m \u001b[0mValueError\u001b[0m\u001b[0;34m:\u001b[0m\u001b[0;34m\u001b[0m\u001b[0;34m\u001b[0m\u001b[0m\n\u001b[1;32m      8\u001b[0m     \u001b[0mprint\u001b[0m\u001b[0;34m(\u001b[0m\u001b[0;34m\"Entrada inválida. Por favor, digite um número inteiro.\"\u001b[0m\u001b[0;34m)\u001b[0m \u001b[0;31m# Added error handling\u001b[0m\u001b[0;34m\u001b[0m\u001b[0;34m\u001b[0m\u001b[0m\n",
            "\u001b[0;32m/usr/local/lib/python3.12/dist-packages/ipykernel/kernelbase.py\u001b[0m in \u001b[0;36mraw_input\u001b[0;34m(self, prompt)\u001b[0m\n\u001b[1;32m   1175\u001b[0m                 \u001b[0;34m\"raw_input was called, but this frontend does not support input requests.\"\u001b[0m\u001b[0;34m\u001b[0m\u001b[0;34m\u001b[0m\u001b[0m\n\u001b[1;32m   1176\u001b[0m             )\n\u001b[0;32m-> 1177\u001b[0;31m         return self._input_request(\n\u001b[0m\u001b[1;32m   1178\u001b[0m             \u001b[0mstr\u001b[0m\u001b[0;34m(\u001b[0m\u001b[0mprompt\u001b[0m\u001b[0;34m)\u001b[0m\u001b[0;34m,\u001b[0m\u001b[0;34m\u001b[0m\u001b[0;34m\u001b[0m\u001b[0m\n\u001b[1;32m   1179\u001b[0m             \u001b[0mself\u001b[0m\u001b[0;34m.\u001b[0m\u001b[0m_parent_ident\u001b[0m\u001b[0;34m[\u001b[0m\u001b[0;34m\"shell\"\u001b[0m\u001b[0;34m]\u001b[0m\u001b[0;34m,\u001b[0m\u001b[0;34m\u001b[0m\u001b[0;34m\u001b[0m\u001b[0m\n",
            "\u001b[0;32m/usr/local/lib/python3.12/dist-packages/ipykernel/kernelbase.py\u001b[0m in \u001b[0;36m_input_request\u001b[0;34m(self, prompt, ident, parent, password)\u001b[0m\n\u001b[1;32m   1217\u001b[0m             \u001b[0;32mexcept\u001b[0m \u001b[0mKeyboardInterrupt\u001b[0m\u001b[0;34m:\u001b[0m\u001b[0;34m\u001b[0m\u001b[0;34m\u001b[0m\u001b[0m\n\u001b[1;32m   1218\u001b[0m                 \u001b[0;31m# re-raise KeyboardInterrupt, to truncate traceback\u001b[0m\u001b[0;34m\u001b[0m\u001b[0;34m\u001b[0m\u001b[0m\n\u001b[0;32m-> 1219\u001b[0;31m                 \u001b[0;32mraise\u001b[0m \u001b[0mKeyboardInterrupt\u001b[0m\u001b[0;34m(\u001b[0m\u001b[0;34m\"Interrupted by user\"\u001b[0m\u001b[0;34m)\u001b[0m \u001b[0;32mfrom\u001b[0m \u001b[0;32mNone\u001b[0m\u001b[0;34m\u001b[0m\u001b[0;34m\u001b[0m\u001b[0m\n\u001b[0m\u001b[1;32m   1220\u001b[0m             \u001b[0;32mexcept\u001b[0m \u001b[0mException\u001b[0m\u001b[0;34m:\u001b[0m\u001b[0;34m\u001b[0m\u001b[0;34m\u001b[0m\u001b[0m\n\u001b[1;32m   1221\u001b[0m                 \u001b[0mself\u001b[0m\u001b[0;34m.\u001b[0m\u001b[0mlog\u001b[0m\u001b[0;34m.\u001b[0m\u001b[0mwarning\u001b[0m\u001b[0;34m(\u001b[0m\u001b[0;34m\"Invalid Message:\"\u001b[0m\u001b[0;34m,\u001b[0m \u001b[0mexc_info\u001b[0m\u001b[0;34m=\u001b[0m\u001b[0;32mTrue\u001b[0m\u001b[0;34m)\u001b[0m\u001b[0;34m\u001b[0m\u001b[0;34m\u001b[0m\u001b[0m\n",
            "\u001b[0;31mKeyboardInterrupt\u001b[0m: Interrupted by user"
          ]
        }
      ]
    },
    {
      "cell_type": "code",
      "source": [
        "#Increscimento o codigo anterior para que leia\n",
        "\n"
      ],
      "metadata": {
        "id": "pZEVJvaAF8kK"
      },
      "execution_count": null,
      "outputs": []
    },
    {
      "cell_type": "code",
      "source": [
        "valor = 1\n",
        "soma = 0\n",
        "\n",
        "while(valor !=0):\n",
        "  valor = int(input( \"digite o valor, zero sai\"))\n",
        "  soma += valor\n",
        "  print(\"A soma é\", soma)"
      ],
      "metadata": {
        "id": "kfNXFRiLG7Kl",
        "colab": {
          "base_uri": "https://localhost:8080/"
        },
        "outputId": "bb7f6a11-f911-463b-b89e-e0f428e78b74"
      },
      "execution_count": null,
      "outputs": [
        {
          "output_type": "stream",
          "name": "stdout",
          "text": [
            "digite o valor, zero sai2\n",
            "A soma é 2\n",
            "digite o valor, zero sai1\n",
            "A soma é 3\n",
            "digite o valor, zero sai6\n",
            "A soma é 9\n"
          ]
        }
      ]
    },
    {
      "cell_type": "code",
      "source": [
        "#os numeros que o usuarios digitou e os some\n"
      ],
      "metadata": {
        "id": "Ha-evsPYF8HC"
      },
      "execution_count": null,
      "outputs": []
    },
    {
      "cell_type": "code",
      "source": [
        "#quando o usuarios digitar 0, sai e exibir o\n",
        "#somatorio\n",
        "\n"
      ],
      "metadata": {
        "id": "Cz5LXCodFVdU"
      },
      "execution_count": null,
      "outputs": []
    },
    {
      "cell_type": "code",
      "source": [],
      "metadata": {
        "id": "TPHqFOW3FKxe"
      },
      "execution_count": null,
      "outputs": []
    },
    {
      "cell_type": "code",
      "source": [],
      "metadata": {
        "id": "vsWm4pLrFKjX"
      },
      "execution_count": null,
      "outputs": []
    },
    {
      "cell_type": "code",
      "source": [
        ")#Percorrer lista comFOR\n",
        "carros = [\"chevete\", \"fusca\", \"vaeiant\", \"lada\"]\n",
        "for carro in carros:\n",
        "\n",
        " print(carros)"
      ],
      "metadata": {
        "colab": {
          "base_uri": "https://localhost:8080/"
        },
        "id": "g5BC32u3Acax",
        "outputId": "ab972f23-552a-4785-b60d-b832376f7056"
      },
      "execution_count": null,
      "outputs": [
        {
          "output_type": "stream",
          "name": "stdout",
          "text": [
            "['chevete', 'fusca', 'vaeiant', 'lada']\n",
            "['chevete', 'fusca', 'vaeiant', 'lada']\n",
            "['chevete', 'fusca', 'vaeiant', 'lada']\n",
            "['chevete', 'fusca', 'vaeiant', 'lada']\n"
          ]
        }
      ]
    },
    {
      "cell_type": "code",
      "source": [
        "# e importante informando se é par ou impar\n",
        "\n",
        "for i in range()"
      ],
      "metadata": {
        "id": "aQLZKNYM_7BC"
      },
      "execution_count": null,
      "outputs": []
    },
    {
      "cell_type": "code",
      "source": [],
      "metadata": {
        "id": "MVXbEuPD_66D"
      },
      "execution_count": null,
      "outputs": []
    },
    {
      "cell_type": "code",
      "source": [
        "# Pega um range de valores entre 1 e 20\n",
        "\n",
        "for i in range(1, 21):\n",
        "  if i % 2 == 0:\n",
        "    print(i, \"é par\")\n",
        "  else:\n",
        "    print(i, \"é impar\")"
      ],
      "metadata": {
        "colab": {
          "base_uri": "https://localhost:8080/"
        },
        "id": "PC-VYxBC-8E7",
        "outputId": "a44ccca7-6a20-4775-b7ca-6ed852cd61d9"
      },
      "execution_count": null,
      "outputs": [
        {
          "output_type": "stream",
          "name": "stdout",
          "text": [
            "1 é impar\n",
            "2 é par\n",
            "3 é impar\n",
            "4 é par\n",
            "5 é impar\n",
            "6 é par\n",
            "7 é impar\n",
            "8 é par\n",
            "9 é impar\n",
            "10 é par\n",
            "11 é impar\n",
            "12 é par\n",
            "13 é impar\n",
            "14 é par\n",
            "15 é impar\n",
            "16 é par\n",
            "17 é impar\n",
            "18 é par\n",
            "19 é impar\n",
            "20 é par\n"
          ]
        }
      ]
    }
  ]
}